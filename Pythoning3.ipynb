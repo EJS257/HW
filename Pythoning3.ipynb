{
  "nbformat": 4,
  "nbformat_minor": 0,
  "metadata": {
    "colab": {
      "provenance": [],
      "include_colab_link": true
    },
    "kernelspec": {
      "name": "python3",
      "display_name": "Python 3"
    },
    "language_info": {
      "name": "python"
    }
  },
  "cells": [
    {
      "cell_type": "markdown",
      "metadata": {
        "id": "view-in-github",
        "colab_type": "text"
      },
      "source": [
        "<a href=\"https://colab.research.google.com/github/EJS257/HW/blob/main/Pythoning3.ipynb\" target=\"_parent\"><img src=\"https://colab.research.google.com/assets/colab-badge.svg\" alt=\"Open In Colab\"/></a>"
      ]
    },
    {
      "cell_type": "markdown",
      "source": [
        "Let's understand lists first."
      ],
      "metadata": {
        "id": "acxuFXVfNLai"
      }
    },
    {
      "cell_type": "code",
      "source": [
        "l1 = [\"Jeff\", \"Karla\", \"Tony\"]  # list of names (really a list of strings)\n",
        "l2 = [1, 2, 3]                  # list of numbers\n",
        "l3 = [2.5, 3.0, 2.5]            # list of decimal (floats or floating point numbers)\n",
        "l4 = [[1,2], [2,2], [4,5]]      # list of lists\n",
        "l5 = [[\"CS102\", 'A'], [\"SEM150\", \"A\"], [\"AH280\", \"A\"]]"
      ],
      "metadata": {
        "id": "zbY2ndrzNOPN"
      },
      "execution_count": null,
      "outputs": []
    },
    {
      "cell_type": "code",
      "source": [
        "print(l5)"
      ],
      "metadata": {
        "colab": {
          "base_uri": "https://localhost:8080/"
        },
        "id": "jgNIjagdcn4-",
        "outputId": "18231eba-4fc4-441f-8535-c91e2f83e3b3"
      },
      "execution_count": null,
      "outputs": [
        {
          "output_type": "stream",
          "name": "stdout",
          "text": [
            "[['CS102', 'A'], ['SEM150', 'A'], ['AH280', 'A']]\n"
          ]
        }
      ]
    },
    {
      "cell_type": "markdown",
      "source": [
        "Using the code below can you output your initials?"
      ],
      "metadata": {
        "id": "qtrLF8s8L3d1"
      }
    },
    {
      "cell_type": "code",
      "execution_count": 2,
      "metadata": {
        "colab": {
          "base_uri": "https://localhost:8080/",
          "height": 289
        },
        "id": "oHLYov4iL0R3",
        "outputId": "7da2e7b0-bf14-4c9f-8f86-ba1d36a4b2ce"
      },
      "outputs": [
        {
          "output_type": "display_data",
          "data": {
            "text/plain": [
              "<Figure size 640x480 with 1 Axes>"
            ],
            "image/png": "[encoded data removed]"
          },
          "metadata": {}
        }
      ],
      "source": [
        "import matplotlib.pyplot as plt\n",
        "\n",
        "\n",
        "image = [[0, 0, 0, 0, 0, 0, 0, 0, 0, 0, 0, 0, 0],\n",
        "         [0, 5, 5, 5, 0, 0, 0, 0, 0, 0, 0, 0, 0],\n",
        "         [0, 5, 0, 0, 0, 0, 0, 0, 0, 0, 0, 0, 0],\n",
        "         [0, 5, 5, 0, 0, 0, 0, 0, 0, 0, 0, 0, 0],\n",
        "         [0, 5, 0, 0, 0, 0, 0, 0, 0, 0, 0, 0, 0],\n",
        "         [0, 5, 5, 5, 0, 0, 0, 0, 0, 0, 0, 0, 0]]\n",
        "\n",
        "plt.imshow(image, cmap='magma')\n",
        "plt.xticks(range(len(image[0])))\n",
        "plt.yticks(range(len(image)))\n",
        "plt.show()"
      ]
    },
    {
      "cell_type": "markdown",
      "source": [
        "Use this code cell."
      ],
      "metadata": {
        "id": "NeFLB-oSMEzZ"
      }
    },
    {
      "cell_type": "code",
      "source": [],
      "metadata": {
        "id": "qKywgI3SMIs9"
      },
      "execution_count": null,
      "outputs": []
    },
    {
      "cell_type": "markdown",
      "source": [
        "Now have fun, can you draw something cool. Don't limit yourself to the dimensions shown."
      ],
      "metadata": {
        "id": "YrCxN5UmMJIV"
      }
    },
    {
      "cell_type": "code",
      "source": [],
      "metadata": {
        "id": "XiuFCT4_hu6j"
      },
      "execution_count": null,
      "outputs": []
    },
    {
      "cell_type": "code",
      "source": [
        "import matplotlib.pyplot as plt\n",
        "\n",
        "image = [[0, 0, 0, 0, 0, 0, 0],\n",
        "         [0, 5, 5, 5, 5, 5, 0],\n",
        "         [0, 5, 12, 5, 12, 5, 0],\n",
        "         [7, 5, 5, 5, 5, 5, 7],\n",
        "         [3, 5, 15, 15, 15, 5, 3],\n",
        "         [3, 3, 5, 5, 5, 3, 3]]\n",
        "\n",
        "plt.imshow(image, cmap='magma')\n",
        "plt.xticks(range(len(image[0])))\n",
        "plt.yticks(range(len(image)))\n",
        "plt.show()"
      ],
      "metadata": {
        "colab": {
          "base_uri": "https://localhost:8080/",
          "height": 430
        },
        "id": "AEZLLibJMQo6",
        "outputId": "c13544de-73dd-4264-983b-3dc2ed9562f8"
      },
      "execution_count": null,
      "outputs": [
        {
          "output_type": "display_data",
          "data": {
            "text/plain": [
              "<Figure size 640x480 with 1 Axes>"
            ],
            "image/png": "[encoded data removed]"
          },
          "metadata": {}
        }
      ]
    },
    {
      "cell_type": "markdown",
      "source": [
        "Your code below:"
      ],
      "metadata": {
        "id": "Z0WdekDqMUlL"
      }
    },
    {
      "cell_type": "code",
      "source": [],
      "metadata": {
        "id": "BbnxFU-sMW29"
      },
      "execution_count": null,
      "outputs": []
    }
  ]
}